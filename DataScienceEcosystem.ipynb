{
 "cells": [
  {
   "cell_type": "markdown",
   "id": "48f60e7a-81a8-4eaf-b919-a180177cfd66",
   "metadata": {},
   "source": [
    "# H1: Data Science Tools and Ecosystem"
   ]
  },
  {
   "cell_type": "markdown",
   "id": "96cb458c-6a67-40bd-b797-fe1afe3ed680",
   "metadata": {},
   "source": [
    "## H2: In this notebook, Data Science Tools and Ecosystem are summarized."
   ]
  },
  {
   "cell_type": "markdown",
   "id": "0461bb15-6200-49c9-8ab8-731373092a3c",
   "metadata": {},
   "source": [
    "**Objectives:**\n",
    "- Data Science tools and ecosystems\n",
    "- Data Science Languages\n",
    "- Data Science Libraries"
   ]
  },
  {
   "cell_type": "markdown",
   "id": "2ee962f1-f129-41e7-8e54-f7c621ce0eb4",
   "metadata": {},
   "source": [
    "# Some of the popular languages that Data Scientists use are\n",
    "1. R\n",
    "2. Python\n",
    "3. SQL\n",
    "4. VBA"
   ]
  },
  {
   "cell_type": "code",
   "execution_count": null,
   "id": "ab618dd4-880e-4da1-bccb-8ff324fd67d7",
   "metadata": {},
   "outputs": [],
   "source": []
  },
  {
   "cell_type": "markdown",
   "id": "c59bec60-92cc-4ca0-b96a-c87cdb3c2cb9",
   "metadata": {},
   "source": [
    "# Some of the commonly used libraries used by Data Scientists include:\n",
    "1. Numpy\n",
    "2. Pandas\n",
    "3. Matplotlib\n",
    "4. Seaborn"
   ]
  },
  {
   "cell_type": "markdown",
   "id": "192d097a-bb37-4aa9-99d1-440cf2bc1ca3",
   "metadata": {},
   "source": [
    "\n",
    "| Data Science Tools |\n",
    "| ------------------- |\n",
    "| Jupyter Notebook  |\n",
    "| RStudio |\n",
    "| Spyder |\n",
    "| Apache Zeppelin |"
   ]
  },
  {
   "cell_type": "markdown",
   "id": "18b00618-cf01-4ccc-a55d-bb7b857ab29e",
   "metadata": {},
   "source": [
    "### H3: Below are a few examples of evaluating arithmetic expressions in Python"
   ]
  },
  {
   "cell_type": "code",
   "execution_count": 2,
   "id": "04911487-aecb-4ed4-ac86-37cb89edc86c",
   "metadata": {},
   "outputs": [
    {
     "data": {
      "text/plain": [
       "17"
      ]
     },
     "execution_count": 2,
     "metadata": {},
     "output_type": "execute_result"
    }
   ],
   "source": [
    "(3*4)+5\n",
    "#This a simple arithmetic expression to mutiply then add integers"
   ]
  },
  {
   "cell_type": "code",
   "execution_count": 3,
   "id": "57b1b652-2d60-4c64-aa4a-84b5756060c7",
   "metadata": {},
   "outputs": [
    {
     "data": {
      "text/plain": [
       "3.3333333333333335"
      ]
     },
     "execution_count": 3,
     "metadata": {},
     "output_type": "execute_result"
    }
   ],
   "source": [
    "#This will convert 200 minutes to hours by diving by 60\n",
    "200/60"
   ]
  },
  {
   "cell_type": "markdown",
   "id": "ae055df1-473b-4ae4-8182-9720b2002b54",
   "metadata": {},
   "source": [
    "## H2 Author\n",
    "Saloni Sharma"
   ]
  },
  {
   "cell_type": "code",
   "execution_count": null,
   "id": "67fabbab-ebbf-4334-8d1a-33f8825a55ee",
   "metadata": {},
   "outputs": [],
   "source": []
  }
 ],
 "metadata": {
  "kernelspec": {
   "display_name": "Python 3 (ipykernel)",
   "language": "python",
   "name": "python3"
  },
  "language_info": {
   "codemirror_mode": {
    "name": "ipython",
    "version": 3
   },
   "file_extension": ".py",
   "mimetype": "text/x-python",
   "name": "python",
   "nbconvert_exporter": "python",
   "pygments_lexer": "ipython3",
   "version": "3.11.9"
  }
 },
 "nbformat": 4,
 "nbformat_minor": 5
}
